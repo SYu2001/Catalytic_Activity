{
 "cells": [
  {
   "cell_type": "code",
   "execution_count": 2,
   "metadata": {},
   "outputs": [],
   "source": [
    "import numpy as np\n",
    "import matplotlib.pyplot as plt"
   ]
  },
  {
   "cell_type": "code",
   "execution_count": 3,
   "metadata": {},
   "outputs": [],
   "source": [
    "plt.rcParams['figure.figsize'] = [12, 5]\n",
    "plt.rcParams['font.size'] = 15\n",
    "plt.rcParams['axes.labelsize'] = 15\n",
    "plt.rcParams['xtick.labelsize'] = 13\n",
    "plt.rcParams['ytick.labelsize'] = 13"
   ]
  },
  {
   "cell_type": "code",
   "execution_count": 4,
   "metadata": {},
   "outputs": [],
   "source": [
    "def del_E(n, E_surf_nH, E_surf, E_H2):\n",
    "    return 1/n * (E_surf_nH-E_surf - n/2 * E_H2)"
   ]
  },
  {
   "cell_type": "code",
   "execution_count": 6,
   "metadata": {},
   "outputs": [
    {
     "name": "stdout",
     "output_type": "stream",
     "text": [
      "[-0.02271906 -0.02157164 -0.02052418]\n",
      "[-1.82220121 -1.82028441 -1.81642437]\n"
     ]
    }
   ],
   "source": [
    "Pt_basis_2x2_dataonly = np.loadtxt(\"Pt_basis_2x2_dataonly.txt\")\n",
    "\n",
    "basis_layer1_4 = Pt_basis_2x2_dataonly[:3]\n",
    "basis_layer_mono = Pt_basis_2x2_dataonly[3:6]\n",
    "basis_surface = Pt_basis_2x2_dataonly[6:9]\n",
    "basis_H2 = Pt_basis_2x2_dataonly[9]\n",
    "\n",
    "basis_H_chem_E_14 = del_E (n,basis_layer1_4,basis_surface,basis_H2)\n",
    "print(basis_H_chem_E_14)\n",
    "basis_H_chem_E_mono = del_E (n,basis_layer_mono,basis_surface,basis_H2)\n",
    "print(basis_H_chem_E_mono)\n",
    "n=1"
   ]
  },
  {
   "cell_type": "code",
   "execution_count": 7,
   "metadata": {},
   "outputs": [],
   "source": [
    "Pt_kpt_2x2_dataonly = np.loadtxt(\"Pt_kpt_2x2_dataonly.txt\")"
   ]
  },
  {
   "cell_type": "code",
   "execution_count": 8,
   "metadata": {},
   "outputs": [],
   "source": [
    "kpt_layer1_4 = Pt_kpt_2x2_dataonly[:4]\n",
    "kpt_layer_mono = Pt_kpt_2x2_dataonly[4:8]\n",
    "kpt_surface = Pt_kpt_2x2_dataonly[8:12]\n",
    "kpt_H2 = Pt_kpt_2x2_dataonly[12]\n",
    "n=1"
   ]
  },
  {
   "cell_type": "code",
   "execution_count": 9,
   "metadata": {},
   "outputs": [
    {
     "name": "stdout",
     "output_type": "stream",
     "text": [
      "[-0.02273892 -0.02157167 -0.02216464 -0.02275973]\n",
      "[-1.81988151 -1.82028441 -1.82187946 -1.82483687]\n"
     ]
    }
   ],
   "source": [
    "kpt_H_chem_E_14 = del_E(n,kpt_layer1_4,kpt_surface,kpt_H2)\n",
    "print(kpt_H_chem_E_14)\n",
    "kpt_H_chem_E_mono = del_E(n,kpt_layer_mono,kpt_surface,kpt_H2)\n",
    "print(kpt_H_chem_E_mono)"
   ]
  },
  {
   "cell_type": "code",
   "execution_count": 10,
   "metadata": {},
   "outputs": [
    {
     "name": "stdout",
     "output_type": "stream",
     "text": [
      "[2.08173888e-05 1.18806744e-03 5.95091217e-04 0.00000000e+00]\n",
      "[2.08173888e-05 1.18806744e-03 5.95091217e-04 0.00000000e+00]\n"
     ]
    }
   ],
   "source": [
    "error_14_Hchem_vs_kpt = kpt_H_chem_E_14 - kpt_H_chem_E_14[-1]\n",
    "print(error_14_Hchem_vs_kpt)\n",
    "error_mono_Hchem_vs_kpt = kpt_H_chem_E_mono - kpt_H_chem_E_mono[-1]\n",
    "print(error_14_Hchem_vs_kpt)"
   ]
  },
  {
   "cell_type": "code",
   "execution_count": 19,
   "metadata": {},
   "outputs": [
    {
     "data": {
      "image/png": "[encoded data removed]",
      "text/plain": [
       "<Figure size 864x360 with 1 Axes>"
      ]
     },
     "metadata": {
      "needs_background": "light"
     },
     "output_type": "display_data"
    }
   ],
   "source": [
    "# a bar graph of error on H chemisorption energy vs k point set for 1/4 layer\n",
    "\n",
    "k_point = np.array([4,5,6,7])\n",
    "\n",
    "plt.bar(k_point,error_14_Hchem_vs_kpt)\n",
    "\n",
    "plt.xlabel(\"k point\")\n",
    "plt.ylabel(\"error/eV\")\n",
    "\n",
    "plt.show()"
   ]
  },
  {
   "cell_type": "code",
   "execution_count": 18,
   "metadata": {},
   "outputs": [
    {
     "data": {
      "image/png": "[encoded data removed]",
      "text/plain": [
       "<Figure size 864x360 with 1 Axes>"
      ]
     },
     "metadata": {
      "needs_background": "light"
     },
     "output_type": "display_data"
    }
   ],
   "source": [
    "# a bar graph of error on H chemisorption energy vs k point set for mono layer\n",
    "\n",
    "plt.bar(k_point,error_mono_Hchem_vs_kpt)\n",
    "\n",
    "plt.xlabel(\"k point\")\n",
    "plt.ylabel(\"error/eV\")\n",
    "\n",
    "plt.show()"
   ]
  },
  {
   "cell_type": "code",
   "execution_count": null,
   "metadata": {},
   "outputs": [],
   "source": []
  }
 ],
 "metadata": {
  "kernelspec": {
   "display_name": "Python 3.10.6 64-bit",
   "language": "python",
   "name": "python3"
  },
  "language_info": {
   "codemirror_mode": {
    "name": "ipython",
    "version": 3
   },
   "file_extension": ".py",
   "mimetype": "text/x-python",
   "name": "python",
   "nbconvert_exporter": "python",
   "pygments_lexer": "ipython3",
   "version": "3.10.6"
  },
  "orig_nbformat": 4,
  "vscode": {
   "interpreter": {
    "hash": "fbe58ca63fe33f9eeae9e71d10368d2b4a57f2b1b395836210cc60d362c66949"
   }
  }
 },
 "nbformat": 4,
 "nbformat_minor": 2
}
