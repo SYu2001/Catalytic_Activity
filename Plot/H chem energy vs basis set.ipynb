{
 "cells": [
  {
   "cell_type": "code",
   "execution_count": 1,
   "metadata": {},
   "outputs": [],
   "source": [
    "import numpy as np\n",
    "import matplotlib.pyplot as plt"
   ]
  },
  {
   "cell_type": "code",
   "execution_count": 2,
   "metadata": {},
   "outputs": [],
   "source": [
    "plt.rcParams['figure.figsize'] = [12, 5]\n",
    "plt.rcParams['font.size'] = 15\n",
    "plt.rcParams['axes.labelsize'] = 15\n",
    "plt.rcParams['xtick.labelsize'] = 13\n",
    "plt.rcParams['ytick.labelsize'] = 13"
   ]
  },
  {
   "cell_type": "code",
   "execution_count": 3,
   "metadata": {},
   "outputs": [],
   "source": [
    "def del_E(n, E_surf_nH, E_surf, E_H2):\n",
    "    return 1/n * (E_surf_nH-E_surf - n/2 * E_H2)"
   ]
  },
  {
   "cell_type": "code",
   "execution_count": 4,
   "metadata": {},
   "outputs": [],
   "source": [
    "Pt_basis_2x2_dataonly = np.loadtxt(\"Pt_basis_2x2_dataonly.txt\")\n",
    "\n",
    "basis_layer1_4 = Pt_basis_2x2_dataonly[:3]\n",
    "basis_layer_mono = Pt_basis_2x2_dataonly[3:6]\n",
    "basis_surface = Pt_basis_2x2_dataonly[6:9]\n",
    "basis_H2 = Pt_basis_2x2_dataonly[9]\n",
    "n=1"
   ]
  },
  {
   "cell_type": "code",
   "execution_count": 5,
   "metadata": {},
   "outputs": [
    {
     "name": "stdout",
     "output_type": "stream",
     "text": [
      "[-0.02271906 -0.02157164 -0.02052418]\n",
      "[-1.82220121 -1.82028441 -1.81642437]\n"
     ]
    }
   ],
   "source": [
    "basis_H_chem_E_14 = del_E (n,basis_layer1_4,basis_surface,basis_H2)\n",
    "print(basis_H_chem_E_14)\n",
    "basis_H_chem_E_mono = del_E (n,basis_layer_mono,basis_surface,basis_H2)\n",
    "print(basis_H_chem_E_mono)"
   ]
  },
  {
   "cell_type": "code",
   "execution_count": 7,
   "metadata": {},
   "outputs": [],
   "source": [
    "basis_set = np.array([\"DZV\",\"TZV\",\"TZVP\"])"
   ]
  },
  {
   "cell_type": "code",
   "execution_count": 8,
   "metadata": {},
   "outputs": [
    {
     "data": {
      "text/plain": [
       "<BarContainer object of 3 artists>"
      ]
     },
     "execution_count": 8,
     "metadata": {},
     "output_type": "execute_result"
    },
    {
     "data": {
      "image/png": "[encoded data removed]",
      "text/plain": [
       "<Figure size 432x288 with 1 Axes>"
      ]
     },
     "metadata": {
      "needs_background": "light"
     },
     "output_type": "display_data"
    }
   ],
   "source": [
    "plt.bar(basis_set,basis_H_chem_E_14)"
   ]
  },
  {
   "cell_type": "code",
   "execution_count": null,
   "metadata": {},
   "outputs": [],
   "source": []
  }
 ],
 "metadata": {
  "kernelspec": {
   "display_name": "Python 3.10.6 64-bit",
   "language": "python",
   "name": "python3"
  },
  "language_info": {
   "codemirror_mode": {
    "name": "ipython",
    "version": 3
   },
   "file_extension": ".py",
   "mimetype": "text/x-python",
   "name": "python",
   "nbconvert_exporter": "python",
   "pygments_lexer": "ipython3",
   "version": "3.10.6"
  },
  "orig_nbformat": 4,
  "vscode": {
   "interpreter": {
    "hash": "fbe58ca63fe33f9eeae9e71d10368d2b4a57f2b1b395836210cc60d362c66949"
   }
  }
 },
 "nbformat": 4,
 "nbformat_minor": 2
}
